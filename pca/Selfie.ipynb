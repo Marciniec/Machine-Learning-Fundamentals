{
 "cells": [
  {
   "cell_type": "code",
   "execution_count": null,
   "metadata": {},
   "outputs": [],
   "source": [
    "import numpy as np\n",
    "from PIL import Image\n",
    "import pandas as pd\n",
    "from os import listdir\n",
    "from os.path import isfile, join\n",
    "from matplotlib import pyplot as plt\n",
    "from sklearn.decomposition import PCA\n",
    "from matplotlib.colors import ListedColormap"
   ]
  },
  {
   "cell_type": "code",
   "execution_count": null,
   "metadata": {},
   "outputs": [],
   "source": [
    "PICS_NUMBER = 75\n",
    "PICS_WIDTH = 177"
   ]
  },
  {
   "cell_type": "code",
   "execution_count": null,
   "metadata": {},
   "outputs": [],
   "source": [
    "def process_image(image, dest_path, label):\n",
    "    width, height = image.size\n",
    "    dest_path = dest_path + '.csv'\n",
    "    with open(dest_path, 'w') as dest_file:\n",
    "        for y in range(0, height):\n",
    "            for x in range(0, width):\n",
    "                if(x !=width-1):\n",
    "                    dest_file.write(f'{image.getpixel((x,y))};')\n",
    "                else:\n",
    "                    dest_file.write(f'{image.getpixel((x,y))};{label}')\n",
    "            dest_file.write(f'\\n')\n",
    "        "
   ]
  },
  {
   "cell_type": "code",
   "execution_count": null,
   "metadata": {},
   "outputs": [],
   "source": [
    "def readImages(dir_path,dest_path, label):\n",
    "    files = [file for file in listdir(dir_path) if isfile(join(dir_path, file))]\n",
    "    for number, file in enumerate(files):\n",
    "        image = Image.open(dir_path + '/' + file).convert('L')\n",
    "        process_image(image,dest_path + str(number), label)"
   ]
  },
  {
   "cell_type": "code",
   "execution_count": null,
   "metadata": {},
   "outputs": [],
   "source": [
    "readImages(\"selfies/Ada\",\"dataset/Ada\", 1)\n",
    "readImages(\"selfies/ja\",\"dataset/ja\", 2)\n",
    "readImages(\"selfies/Mati\",\"dataset/Mati\", 3)\n",
    "readImages(\"selfies/Michal\",\"dataset/Michal\", 4)\n",
    "readImages(\"selfies/AdaK\",\"dataset/AdaK\", 5)"
   ]
  },
  {
   "cell_type": "code",
   "execution_count": null,
   "metadata": {},
   "outputs": [],
   "source": [
    "def read_dataset_from_csv(dataset):\n",
    "    dataset_df = pd.read_csv(dataset, sep=';')\n",
    "    X = dataset_df.iloc[:,:-1]\n",
    "    y = dataset_df.iloc[:,-1]\n",
    "    return(X,y)"
   ]
  },
  {
   "cell_type": "code",
   "execution_count": null,
   "metadata": {},
   "outputs": [],
   "source": [
    "def readFiles(dir_path):\n",
    "    files = [file for file in listdir(dir_path) if isfile(join(dir_path, file))]\n",
    "    x = np.array(0)\n",
    "    y = np.array(0)\n",
    "    for file in files:\n",
    "        X, Y = read_dataset_from_csv(dir_path + '/' + file)\n",
    "        X = np.array(X)\n",
    "        X = np.array([X])\n",
    "        if x.any() :\n",
    "            x = np.append(x, X, axis = 0)\n",
    "        else:\n",
    "            x = X\n",
    "        if y.any() :\n",
    "            y = np.append(y, Y, axis = 0)\n",
    "        else:\n",
    "            y = Y\n",
    "    return (x, y)"
   ]
  },
  {
   "cell_type": "code",
   "execution_count": null,
   "metadata": {},
   "outputs": [],
   "source": [
    "X, y = readFiles(\"dataset\")"
   ]
  },
  {
   "cell_type": "code",
   "execution_count": null,
   "metadata": {
    "scrolled": true
   },
   "outputs": [],
   "source": [
    "y =y[0:-1:177]"
   ]
  },
  {
   "cell_type": "code",
   "execution_count": null,
   "metadata": {},
   "outputs": [],
   "source": [
    "mean_face = np.mean(X, axis = 0)"
   ]
  },
  {
   "cell_type": "code",
   "execution_count": null,
   "metadata": {},
   "outputs": [],
   "source": [
    "def show_matrix(mean_face: np.ndarray):\n",
    "    plt.matshow(mean_face, cmap='gray')\n",
    "    plt.title(\"Mean face\")\n",
    "    plt.show()"
   ]
  },
  {
   "cell_type": "code",
   "execution_count": null,
   "metadata": {},
   "outputs": [],
   "source": [
    "show_matrix(mean_face)"
   ]
  },
  {
   "cell_type": "code",
   "execution_count": null,
   "metadata": {},
   "outputs": [],
   "source": [
    "X_all = X.reshape(X.shape[0],-1)"
   ]
  },
  {
   "cell_type": "code",
   "execution_count": null,
   "metadata": {
    "scrolled": true
   },
   "outputs": [],
   "source": [
    "pca = PCA()\n",
    "pca.fit(X_all)"
   ]
  },
  {
   "cell_type": "code",
   "execution_count": null,
   "metadata": {},
   "outputs": [],
   "source": [
    "ratio = pca.explained_variance_ratio_\n",
    "x = np.arange(ratio.shape[0])\n",
    "plt.figure(figsize=(18,9))\n",
    "plt.xlabel(\"principal component\")\n",
    "plt.ylabel(\"explained variance ratio\")\n",
    "plt.title(\"explained variance ratio of principal components\")\n",
    "plt.bar(x,ratio,align = 'center', alpha = 0.5, color = 'red')"
   ]
  },
  {
   "cell_type": "code",
   "execution_count": null,
   "metadata": {},
   "outputs": [],
   "source": [
    "def vizualize_principal_components(array: np.ndarray, pics_number: int, pic_width:int):\n",
    "    fig = plt.figure(figsize=(12,12)) \n",
    "    plt.title('Principal components')\n",
    "    plt.axis('off')\n",
    "    fig.subplots_adjust(left=0, right=1, bottom=0, top=1, hspace=0.05, wspace=0.05) \n",
    "    for i in range(pics_number): \n",
    "        ax = fig.add_subplot(5, pics_number/5, i+1, xticks=[], yticks=[]) \n",
    "        ax.set_title(f'{i+1}')\n",
    "        ax.matshow(array[i].reshape(pic_width,-1), cmap='gray', interpolation='nearest') \n",
    "        ax.axis('off')\n",
    "plt.show()"
   ]
  },
  {
   "cell_type": "code",
   "execution_count": null,
   "metadata": {
    "scrolled": false
   },
   "outputs": [],
   "source": [
    "vizualize_principal_components(pca.components_, pca.components_.shape[0], PICS_WIDTH)"
   ]
  },
  {
   "cell_type": "code",
   "execution_count": null,
   "metadata": {},
   "outputs": [],
   "source": [
    "def visualize_pics(matrix: np.ndarray, pics_number:int, title:str):\n",
    "    fig = plt.figure(figsize=(10,10)) \n",
    "    fig.subplots_adjust(left=0, right=1, bottom=0, top=1, hspace=0.05, wspace=0.05) \n",
    "    plt.title(f'{title}')\n",
    "    plt.axis('off')\n",
    "    for i in range(pics_number): \n",
    "        ax = fig.add_subplot(5, pics_number/5, i+1, xticks=[], yticks=[]) \n",
    "        ax.matshow(X[i], cmap='gray', interpolation='nearest') \n",
    "        ax.axis('off')\n",
    "    plt.show()"
   ]
  },
  {
   "cell_type": "code",
   "execution_count": null,
   "metadata": {},
   "outputs": [],
   "source": [
    "visualize_pics(X, PICS_NUMBER, \"Original pictures\")"
   ]
  },
  {
   "cell_type": "code",
   "execution_count": null,
   "metadata": {},
   "outputs": [],
   "source": [
    "def transform_and_reconstruct(X :np.ndarray, n_components:int):\n",
    "    pca = PCA(n_components=n_components)\n",
    "    pca.fit(X)\n",
    "    X_transfomred = pca.transform(X)\n",
    "    X_inversed = pca.inverse_transform(X_transfomred)\n",
    "    fig = plt.figure(figsize=(10,10)) \n",
    "    fig.subplots_adjust(left=0, right=1, bottom=0, top=1, hspace=0.05, wspace=0.05) \n",
    "    plt.title(f\"Reconstructed pictures from {n_components} components\")\n",
    "    plt.axis('off')\n",
    "    for i in range(PICS_NUMBER): \n",
    "        ax = fig.add_subplot(5, PICS_NUMBER/5, i+1, xticks=[], yticks=[]) \n",
    "        ax.axis('off')\n",
    "        ax.matshow(X_inversed[i].reshape(PICS_WIDTH, -1), cmap='gray', interpolation='nearest') \n",
    "    plt.show()\n"
   ]
  },
  {
   "cell_type": "code",
   "execution_count": null,
   "metadata": {
    "scrolled": false
   },
   "outputs": [],
   "source": [
    "dims = [5,15,50]\n",
    "for dim in dims:\n",
    "    transform_and_reconstruct(X_all, dim)"
   ]
  },
  {
   "cell_type": "code",
   "execution_count": null,
   "metadata": {},
   "outputs": [],
   "source": [
    "def vizualization_2d(X:np.ndarray, y: np.ndarray):\n",
    "    pca = PCA(n_components = 2)\n",
    "    pca.fit(X)\n",
    "    X_transformed = pca.transform(X)\n",
    "    plt.figure(figsize=(18,9))\n",
    "    cmap = ListedColormap(['#000000','#FF0000', '#00FF00', \"#0000FF\", \"#FFFF00\"])\n",
    "    plt.scatter(X_transformed[:,0], X_transformed[:,1], c=y,cmap =cmap)\n",
    "    plt.title(\"2D representation of pictures\")\n",
    "    "
   ]
  },
  {
   "cell_type": "code",
   "execution_count": null,
   "metadata": {
    "scrolled": false
   },
   "outputs": [],
   "source": [
    "vizualization_2d(X_all,y)"
   ]
  },
  {
   "cell_type": "markdown",
   "metadata": {},
   "source": [
    "no raport due to personal data protection"
   ]
  },
  {
   "cell_type": "code",
   "execution_count": null,
   "metadata": {},
   "outputs": [],
   "source": []
  }
 ],
 "metadata": {
  "kernelspec": {
   "display_name": "Python 3",
   "language": "python",
   "name": "python3"
  },
  "language_info": {
   "codemirror_mode": {
    "name": "ipython",
    "version": 3
   },
   "file_extension": ".py",
   "mimetype": "text/x-python",
   "name": "python",
   "nbconvert_exporter": "python",
   "pygments_lexer": "ipython3",
   "version": "3.6.6"
  }
 },
 "nbformat": 4,
 "nbformat_minor": 2
}
