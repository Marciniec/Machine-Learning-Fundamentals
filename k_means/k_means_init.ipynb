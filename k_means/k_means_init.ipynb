{
 "cells": [
  {
   "cell_type": "code",
   "execution_count": null,
   "metadata": {},
   "outputs": [],
   "source": [
    "import numpy as np\n",
    "from sklearn.cluster import KMeans\n",
    "import matplotlib.pyplot as plt\n",
    "from sklearn.cluster.k_means_ import _init_centroids\n",
    "from matplotlib.colors import ListedColormap\n",
    "from PIL import Image\n",
    "import math\n",
    "import random\n",
    "import pandas as pd\n",
    "from sklearn.metrics import davies_bouldin_score"
   ]
  },
  {
   "cell_type": "code",
   "execution_count": null,
   "metadata": {},
   "outputs": [],
   "source": [
    "rgb_code_dictionary={(255,255,255): -1, (255,0,0):0 }"
   ]
  },
  {
   "cell_type": "code",
   "execution_count": null,
   "metadata": {},
   "outputs": [],
   "source": [
    "def distance(c1, c2):\n",
    "    (r1,g1,b1) = c1\n",
    "    (r2,g2,b2) = c2\n",
    "    return math.sqrt((r1 - r2)**2 + (g1 - g2) ** 2 + (b1 - b2) **2)\n",
    "def get_closest(point):\n",
    "    colors = list(rgb_code_dictionary.keys())\n",
    "    closest_colors = sorted(colors, key=lambda color: distance(color, point))\n",
    "    closest_color = closest_colors[0]\n",
    "    code = rgb_code_dictionary[closest_color]\n",
    "    return code\n",
    "def add_noise(X):\n",
    "    rand = random.gauss(0, 1)\n",
    "    return X + rand"
   ]
  },
  {
   "cell_type": "code",
   "execution_count": null,
   "metadata": {},
   "outputs": [],
   "source": [
    "def write_data_to_csv(source: str, dest_path: str):\n",
    "    image = Image.open(source)\n",
    "    width, height = image.size\n",
    "    with open(dest_path, 'w') as dest_file:\n",
    "        for x in range(0, width):\n",
    "            for y in range(0, height):\n",
    "                if(get_closest(image.getpixel((x,y))[0:3])!=-1):\n",
    "                    dest_file.write(f'{add_noise(x)};{add_noise(y)};{get_closest(image.getpixel((x,y))[0:3])}\\n')"
   ]
  },
  {
   "cell_type": "code",
   "execution_count": null,
   "metadata": {},
   "outputs": [],
   "source": [
    "write_data_to_csv('k_means_normal.png','usual_dataset.csv' )"
   ]
  },
  {
   "cell_type": "code",
   "execution_count": null,
   "metadata": {},
   "outputs": [],
   "source": [
    "def read_dataset_from_csv(dataset):\n",
    "    dataset_df = pd.read_csv(dataset, sep=';', names=['x', 'y', 'label'])\n",
    "    X = dataset_df.iloc[:, 0:2]\n",
    "    y = dataset_df.iloc[:, 2]\n",
    "    return np.array(X)"
   ]
  },
  {
   "cell_type": "code",
   "execution_count": null,
   "metadata": {},
   "outputs": [],
   "source": [
    "x = read_dataset_from_csv('usual_dataset.csv')"
   ]
  },
  {
   "cell_type": "code",
   "execution_count": null,
   "metadata": {},
   "outputs": [],
   "source": [
    "def plot_dataset(X: np.ndarray):\n",
    "    plt.figure(figsize=(9,9))\n",
    "    plt.plot(X[:,0],X[:,1], 'ro')"
   ]
  },
  {
   "cell_type": "code",
   "execution_count": null,
   "metadata": {},
   "outputs": [],
   "source": [
    "plot_dataset(x)"
   ]
  },
  {
   "cell_type": "code",
   "execution_count": null,
   "metadata": {},
   "outputs": [],
   "source": [
    "k = 9"
   ]
  },
  {
   "cell_type": "code",
   "execution_count": null,
   "metadata": {},
   "outputs": [],
   "source": [
    "def init_random_partition(X: np.ndarray):\n",
    "    row_no = np.random.choice(X.shape[0], replace=False,size=(30,9))\n",
    "    return np.array([X[row_no[:,i],:].mean(axis=0) for i in range(9)])"
   ]
  },
  {
   "cell_type": "code",
   "execution_count": null,
   "metadata": {},
   "outputs": [],
   "source": [
    "def init_random_points(X: np.ndarray):\n",
    "    random_rows = np.random.choice(X.shape[0], size = 9, replace=False)\n",
    "    return X[random_rows,:]"
   ]
  },
  {
   "cell_type": "code",
   "execution_count": null,
   "metadata": {},
   "outputs": [],
   "source": [
    "cases = [\n",
    "    (lambda X: 'random', 'random'),\n",
    "    (lambda X: init_random_points(X), 'forgy'),\n",
    "    (lambda X: init_random_partition(X), 'random_partition'),\n",
    "    (lambda X: 'k-means++', 'k-means++')\n",
    "    \n",
    "]"
   ]
  },
  {
   "cell_type": "code",
   "execution_count": null,
   "metadata": {},
   "outputs": [],
   "source": [
    "colours =['#FF0000', '#00FF00', '#0000FF', '#FF8000','#FFFF00', '#00FFFF','#FF00FF','#808080','#99CCFF']"
   ]
  },
  {
   "cell_type": "code",
   "execution_count": null,
   "metadata": {},
   "outputs": [],
   "source": [
    "k_means = []\n",
    "for init, name in cases:\n",
    "    kmeans = KMeans(n_clusters=k, init=init(x))\n",
    "    kmeans.fit(x)\n",
    "    k_means.append((kmeans, name))"
   ]
  },
  {
   "cell_type": "code",
   "execution_count": null,
   "metadata": {
    "scrolled": false
   },
   "outputs": [],
   "source": [
    "plt.figure(figsize=(16,16))\n",
    "plt.suptitle(\"Clusters found using k means with particular init methods\")\n",
    "for i, (kmeans, name) in enumerate(k_means):\n",
    "    plt.subplot(2,2,i+1)\n",
    "    clusters = kmeans.predict(x)\n",
    "    for cluster in range(k):\n",
    "        my_members =  x[clusters==cluster]\n",
    "        my_center = kmeans.cluster_centers_[cluster]\n",
    "        plt.scatter(my_members[:,0], my_members[:,1], c=colours[cluster])\n",
    "        plt.scatter(my_center[0], my_center[1],marker='o', c='black')\n",
    "        plt.scatter(my_center[0], my_center[1], marker='x', c=colours[cluster])\n",
    "    plt.title(name)\n",
    "plt.show()\n",
    "    "
   ]
  },
  {
   "cell_type": "code",
   "execution_count": null,
   "metadata": {},
   "outputs": [],
   "source": [
    "def kmeans_score(X: np.ndarray, k: int, init, max_iter: int):\n",
    "    kmeans= KMeans(n_clusters=k, init=init(X), max_iter=max_iter).fit(X)\n",
    "    labels = kmeans.labels_\n",
    "    return davies_bouldin_score(X, labels)  \n",
    "\n",
    "def calculate_scores(X: np.ndarray,init, k: int =9, max_iter:int=25):\n",
    "    return np.array([kmeans_score(X, k, init, i) for i in range(1,max_iter)])\n",
    "\n",
    "def calculate_average_score(X: np.array, cases, repeat:int, k: int =9, max_iter:int = 40 ):\n",
    "    average_results = {}\n",
    "    for init, name in cases:\n",
    "        scores = None\n",
    "        for i in range(repeat):\n",
    "            if scores is None:\n",
    "                scores = np.array([calculate_scores(X, init, k, max_iter)])\n",
    "            else:\n",
    "                scores = np.r_[scores,[calculate_scores(X, init, k, max_iter)]]\n",
    "        average_results[name] = scores\n",
    "    return average_results"
   ]
  },
  {
   "cell_type": "code",
   "execution_count": null,
   "metadata": {},
   "outputs": [],
   "source": [
    "result_dict = calculate_average_score(x, cases, 25)"
   ]
  },
  {
   "cell_type": "code",
   "execution_count": null,
   "metadata": {},
   "outputs": [],
   "source": [
    "def plot_averages(results):\n",
    "    fig = plt.figure(figsize=(15,15))\n",
    "    for name, array in results.items():\n",
    "        means = array.mean(axis =0) \n",
    "        errors = array.std(axis =0)/13\n",
    "        plt.scatter(np.arange(len(means)), means, label=name)\n",
    "#         plt.plot(np.arange(len(means)), means, label=name)\n",
    "        plt.errorbar(np.arange(len(means)),means, errors)\n",
    "    plt.title(\"K-menas score using  Davies-Bouldin score. Initialization methods: random, forgy, random_partition,k-means++\")\n",
    "    plt.ylabel(\"Davies - Bouldin score\")\n",
    "    plt.xlabel(\"iteration\")\n",
    "    plt.legend()\n",
    "    plt.show()"
   ]
  },
  {
   "cell_type": "code",
   "execution_count": null,
   "metadata": {},
   "outputs": [],
   "source": [
    "plot_averages(result_dict)"
   ]
  },
  {
   "cell_type": "code",
   "execution_count": null,
   "metadata": {},
   "outputs": [],
   "source": [
    "write_data_to_csv('k_means.png','malformed_dataset.csv' )\n",
    "x_malformed = read_dataset_from_csv('malformed_dataset.csv')"
   ]
  },
  {
   "cell_type": "code",
   "execution_count": null,
   "metadata": {},
   "outputs": [],
   "source": [
    "plot_dataset(x_malformed)"
   ]
  },
  {
   "cell_type": "code",
   "execution_count": null,
   "metadata": {},
   "outputs": [],
   "source": [
    "k_means = []\n",
    "for init, name in cases:\n",
    "    kmeans = KMeans(n_clusters=k, init=init(x_malformed))\n",
    "    kmeans.fit(x)\n",
    "    k_means.append((kmeans, name))"
   ]
  },
  {
   "cell_type": "code",
   "execution_count": null,
   "metadata": {},
   "outputs": [],
   "source": [
    "plt.figure(figsize=(16,16))\n",
    "plt.suptitle(\"Clusters found using k means with particular init methods\")\n",
    "for i, (kmeans, name) in enumerate(k_means):\n",
    "    plt.subplot(2,2,i+1)\n",
    "    clusters = kmeans.predict(x_malformed)\n",
    "    for cluster in range(k):\n",
    "        my_members =  x_malformed[clusters==cluster]\n",
    "        my_center = kmeans.cluster_centers_[cluster]\n",
    "        plt.scatter(my_members[:,0], my_members[:,1], c=colours[cluster])\n",
    "        plt.scatter(my_center[0], my_center[1],marker='o', c='black')\n",
    "        plt.scatter(my_center[0], my_center[1], marker='x', c=colours[cluster])\n",
    "    plt.title(name)\n",
    "plt.show()\n",
    "    "
   ]
  },
  {
   "cell_type": "code",
   "execution_count": null,
   "metadata": {},
   "outputs": [],
   "source": [
    "result_dict = calculate_average_score(x_malformed, cases, 25)"
   ]
  },
  {
   "cell_type": "code",
   "execution_count": null,
   "metadata": {},
   "outputs": [],
   "source": [
    "plot_averages(result_dict)"
   ]
  },
  {
   "cell_type": "code",
   "execution_count": null,
   "metadata": {},
   "outputs": [],
   "source": [
    "def scores_from_K(X: np.ndarray): \n",
    "    for k in range(2,21):\n",
    "        kmeans= KMeans(n_clusters=k).fit(X)\n",
    "        labels = kmeans.labels_\n",
    "        yield davies_bouldin_score(X, labels)  \n",
    "    "
   ]
  },
  {
   "cell_type": "code",
   "execution_count": null,
   "metadata": {},
   "outputs": [],
   "source": [
    "x_scores = [s for s in scores_from_K(x)]\n",
    "x_malformed_scored = [s for s in scores_from_K(x_malformed)]"
   ]
  },
  {
   "cell_type": "code",
   "execution_count": null,
   "metadata": {},
   "outputs": [],
   "source": [
    "def plot_scores(scores, name):\n",
    "    plt.scatter(range(2,21), scores)\n",
    "    plt.xticks( range(2,21) )\n",
    "    plt.title(f'Davies-Bouldin score to k in {name} dataset')\n",
    "    plt.xlabel('number of clusters (k)')\n",
    "    plt.ylabel('Davies-Bouldin score')\n",
    "    plt.show()"
   ]
  },
  {
   "cell_type": "code",
   "execution_count": null,
   "metadata": {
    "scrolled": false
   },
   "outputs": [],
   "source": [
    "plot_scores(x_scores, 'normal')"
   ]
  },
  {
   "cell_type": "code",
   "execution_count": null,
   "metadata": {},
   "outputs": [],
   "source": [
    "plot_scores(x_malformed_scored, 'malformed')"
   ]
  },
  {
   "cell_type": "code",
   "execution_count": null,
   "metadata": {},
   "outputs": [],
   "source": []
  }
 ],
 "metadata": {
  "kernelspec": {
   "display_name": "Python 3",
   "language": "python",
   "name": "python3"
  },
  "language_info": {
   "codemirror_mode": {
    "name": "ipython",
    "version": 3
   },
   "file_extension": ".py",
   "mimetype": "text/x-python",
   "name": "python",
   "nbconvert_exporter": "python",
   "pygments_lexer": "ipython3",
   "version": "3.6.6"
  }
 },
 "nbformat": 4,
 "nbformat_minor": 2
}
